{
 "cells": [
  {
   "cell_type": "markdown",
   "metadata": {},
   "source": [
    "# Is a number odd or even?\n",
    "\n",
    "### Assumptions\n",
    "0 is an even number."
   ]
  },
  {
   "cell_type": "code",
   "execution_count": 1,
   "metadata": {},
   "outputs": [],
   "source": [
    "import numpy as np\n",
    "import torch\n",
    "import torchvision\n",
    "import matplotlib.pyplot as plt\n",
    "from time import time\n",
    "from torchvision import datasets, transforms\n",
    "from torch import nn, optim\n",
    "import torch.nn.functional as F\n",
    "\n",
    "import torchvision.utils as vutils\n",
    "\n",
    "\n",
    "# use cuda if it is available\n",
    "if torch.cuda.is_available():\n",
    "    device = 'cuda:0'\n",
    "    pin = True\n",
    "else:\n",
    "    device = 'cpu'\n",
    "    pin = False\n",
    "\n",
    "# Only need to known what labels are odd\n",
    "odd_nums = [1,3,5,7,9]"
   ]
  },
  {
   "cell_type": "code",
   "execution_count": 2,
   "metadata": {},
   "outputs": [],
   "source": [
    "# transforms to be applied to the MNIST images\n",
    "transform = transforms.Compose([transforms.ToTensor(),\n",
    "                              transforms.Normalize((0.5,), (0.5,)),\n",
    "                              ])"
   ]
  },
  {
   "cell_type": "code",
   "execution_count": 3,
   "metadata": {},
   "outputs": [],
   "source": [
    "# get the MNIST data\n",
    "\n",
    "# Set this to false if you do not have MNIST hand written digits already\n",
    "got_MNIST = True\n",
    "\n",
    "trainset = datasets.MNIST('.\\data', download=not got_MNIST, train=True, transform=transform)\n",
    "valset = datasets.MNIST('.\\data', download=not got_MNIST, train=False, transform=transform)\n",
    "trainloader = torch.utils.data.DataLoader(trainset, batch_size=128, shuffle=True, pin_memory=pin, num_workers=2)\n",
    "valloader = torch.utils.data.DataLoader(valset, batch_size=128, shuffle=True,  pin_memory=pin,  num_workers=2)"
   ]
  },
  {
   "cell_type": "code",
   "execution_count": 4,
   "metadata": {},
   "outputs": [
    {
     "name": "stdout",
     "output_type": "stream",
     "text": [
      "torch.Size([128, 1, 28, 28])\n",
      "torch.Size([128])\n"
     ]
    },
    {
     "data": {
      "image/png": "[encoded data removed]",
      "text/plain": [
       "<Figure size 432x288 with 1 Axes>"
      ]
     },
     "metadata": {
      "needs_background": "light"
     },
     "output_type": "display_data"
    }
   ],
   "source": [
    "# lets look at the data and an example image\n",
    "\n",
    "dataiter = iter(trainloader)\n",
    "images, labels = dataiter.next()\n",
    "\n",
    "print(images.shape)\n",
    "print(labels.shape)\n",
    "\n",
    "plt.imshow(images[0].numpy().squeeze(), cmap='gray_r');"
   ]
  },
  {
   "cell_type": "code",
   "execution_count": 5,
   "metadata": {},
   "outputs": [],
   "source": [
    "# define the model\n",
    "class CNN(nn.Module):\n",
    "    def __init__(self):\n",
    "        super(CNN, self).__init__()\n",
    "\n",
    "        self.conv1 = nn.Conv2d(in_channels=1, out_channels=32, kernel_size=3, stride=2, padding=3)\n",
    "        self.conv2 = nn.Conv2d(in_channels=32, out_channels=32, kernel_size=3, stride=2, padding=2)\n",
    "        self.bn1 = nn.BatchNorm2d(32)\n",
    "        self.conv3 = nn.Conv2d(in_channels=32, out_channels=64, kernel_size=3,  stride=1, padding=2)\n",
    "        self.bn2 = nn.BatchNorm2d(64)\n",
    "        self.conv4 = nn.Conv2d(in_channels=64, out_channels=128, kernel_size=2, stride=1, padding=0)\n",
    "        \n",
    "        self.fc1 = nn.Linear(128*2*2, 128)\n",
    "        self.fc2 = nn.Linear(128, 64)\n",
    "        self.out = nn.Linear(64, 1)\n",
    "        self.leaky_relu = nn.LeakyReLU()\n",
    "        \n",
    "        self.sigmoid = nn.Sigmoid()\n",
    "        \n",
    "    def forward(self, x):\n",
    "        \n",
    "\n",
    "        x = self.conv1(x)\n",
    "        x = self.leaky_relu(x)\n",
    "    \n",
    "        x = self.conv2(x)\n",
    "        x = self.bn1(x)\n",
    "        x = F.max_pool2d(x, kernel_size=3, stride=2)\n",
    "        x = self.leaky_relu(x)\n",
    "        \n",
    "\n",
    "\n",
    "        x = self.conv3(x)\n",
    "        x = self.bn2(x)\n",
    "        x = F.max_pool2d(x, kernel_size=3, stride=1)\n",
    "        x = self.leaky_relu(x)\n",
    "        \n",
    "        \n",
    "        x = self.conv4(x)\n",
    "        x = self.leaky_relu(x)\n",
    "        x = F.max_pool2d(x, kernel_size=2, stride=1)\n",
    "        \n",
    "        # clamp(min=0) is the same as ReLU\n",
    "        x = self.fc1(x.view(-1,128*2*2)).clamp(min=0)\n",
    "        \n",
    "        x = self.fc2(x).clamp(min=0)\n",
    "        \n",
    "        x = self.out(x)\n",
    "        \n",
    "        x = self.sigmoid(x)\n",
    "    \n",
    "        return x.squeeze()"
   ]
  },
  {
   "cell_type": "code",
   "execution_count": 6,
   "metadata": {},
   "outputs": [
    {
     "name": "stdout",
     "output_type": "stream",
     "text": [
      "CNN(\n",
      "  (conv1): Conv2d(1, 32, kernel_size=(3, 3), stride=(2, 2), padding=(3, 3))\n",
      "  (conv2): Conv2d(32, 32, kernel_size=(3, 3), stride=(2, 2), padding=(2, 2))\n",
      "  (bn1): BatchNorm2d(32, eps=1e-05, momentum=0.1, affine=True, track_running_stats=True)\n",
      "  (conv3): Conv2d(32, 64, kernel_size=(3, 3), stride=(1, 1), padding=(2, 2))\n",
      "  (bn2): BatchNorm2d(64, eps=1e-05, momentum=0.1, affine=True, track_running_stats=True)\n",
      "  (conv4): Conv2d(64, 128, kernel_size=(2, 2), stride=(1, 1))\n",
      "  (fc1): Linear(in_features=512, out_features=128, bias=True)\n",
      "  (fc2): Linear(in_features=128, out_features=64, bias=True)\n",
      "  (out): Linear(in_features=64, out_features=1, bias=True)\n",
      "  (leaky_relu): LeakyReLU(negative_slope=0.01)\n",
      "  (sigmoid): Sigmoid()\n",
      ")\n",
      "conv1.weight : 32x1x3x3 = 288\n",
      "conv1.bias : 32\n",
      "conv2.weight : 32x32x3x3 = 9216\n",
      "conv2.bias : 32\n",
      "bn1.weight : 32\n",
      "bn1.bias : 32\n",
      "conv3.weight : 64x32x3x3 = 18432\n",
      "conv3.bias : 64\n",
      "bn2.weight : 64\n",
      "bn2.bias : 64\n",
      "conv4.weight : 128x64x2x2 = 32768\n",
      "conv4.bias : 128\n",
      "fc1.weight : 128x512 = 65536\n",
      "fc1.bias : 128\n",
      "fc2.weight : 64x128 = 8192\n",
      "fc2.bias : 64\n",
      "out.weight : 1x64 = 64\n",
      "out.bias : 1\n",
      "There are 135137 trainable parameters in the model.\n"
     ]
    }
   ],
   "source": [
    "# initialise the model and print some useful information about it\n",
    "\n",
    "model = CNN().float().to(device)\n",
    "\n",
    "print(model)\n",
    "def count_parameters(model):\n",
    "    total_param = 0\n",
    "    for name, param in model.named_parameters():\n",
    "        if param.requires_grad:\n",
    "            num_param = np.prod(param.size())\n",
    "            if param.dim() > 1:\n",
    "                print(name, ':', 'x'.join(str(x) for x in list(param.size())), '=', num_param)\n",
    "            else:\n",
    "                print(name, ':', num_param)\n",
    "            total_param += num_param\n",
    "    print(f\"There are {total_param} trainable parameters in the model.\")\n",
    "\n",
    "count_parameters(model)"
   ]
  },
  {
   "cell_type": "code",
   "execution_count": 7,
   "metadata": {
    "scrolled": true
   },
   "outputs": [],
   "source": [
    "# helper function to test the model on the validation data\n",
    "def test():\n",
    "    model.eval()\n",
    "    correct = 0.0\n",
    "    for i, (images, labels) in enumerate(valloader):\n",
    "        \n",
    "        for idx in range(0, len(labels)):\n",
    "                if labels[idx] in odd_nums:\n",
    "                    labels[idx] = 1.0\n",
    "                else:\n",
    "                    labels[idx] = 0.0\n",
    "        \n",
    "        images = images.float().to(device)\n",
    "        labels = labels.float().to(device)\n",
    "\n",
    "        predictions = model(images)\n",
    "        \n",
    "        for i in range(0, len(predictions)):\n",
    "            if round(predictions[i].item()) == labels[i]:\n",
    "                correct += 1\n",
    "\n",
    "    val_acc = correct / len(valloader.dataset)\n",
    "\n",
    "    return val_acc*100\n",
    "\n",
    "# function to train the model\n",
    "def train(num_epochs=1, lr=0.0001):\n",
    "    \n",
    "    # use binary cross entropy loss\n",
    "    loss_fn = nn.BCELoss()\n",
    "    \n",
    "    # RMSprop optimizer for state of the art results\n",
    "    optimizer = optim.RMSprop(model.parameters(), lr=lr)\n",
    "    \n",
    "    print(f\"Training the model for {num_epochs} epochs!\")\n",
    "    \n",
    "    for epoch in range(0, num_epochs):\n",
    "        \n",
    "        epoch_loss = []\n",
    "        # For each batch in the dataloader\n",
    "        train_iter = iter(trainloader)\n",
    "        for batch in range(0, len(trainloader)):\n",
    "\n",
    "            images, labels = train_iter.next()\n",
    "            \n",
    "            # change the labels to suite our needs\n",
    "            for i in range(0, len(labels)):\n",
    "                if labels[i] in odd_nums:\n",
    "                    labels[i] = 1.0\n",
    "                else:\n",
    "                    labels[i] = 0.0\n",
    "            \n",
    "            # get the batch onto the correct device\n",
    "            images = images.float().to(device)\n",
    "            labels = labels.float().to(device)\n",
    "            \n",
    "            # make some predictions\n",
    "            predictions = model(images)\n",
    "            \n",
    "            # calculate the loss\n",
    "            loss = loss_fn(predictions, labels)\n",
    "            # calculate the gradients\n",
    "            loss.backward()\n",
    "            # update the weights\n",
    "            optimizer.step()\n",
    "            \n",
    "            # store the loss for that batch\n",
    "            epoch_loss.append(loss.item())\n",
    "        \n",
    "        # print out some metrics about how training is going\n",
    "        avg_loss = sum(epoch_loss)/len(epoch_loss)\n",
    "        val_acc = test()\n",
    "        print(f\"Epoch: {epoch} - model loss: {avg_loss} | validation accuracy: {val_acc}%\")"
   ]
  },
  {
   "cell_type": "code",
   "execution_count": 8,
   "metadata": {},
   "outputs": [
    {
     "name": "stdout",
     "output_type": "stream",
     "text": [
      "Training the model for 10 epochs!\n",
      "Epoch: 0 - model loss: 0.11579244104084938 | validation accuracy: 98.31%\n",
      "Epoch: 1 - model loss: 0.05988606280073333 | validation accuracy: 98.41%\n",
      "Epoch: 2 - model loss: 0.039099942289614505 | validation accuracy: 99.0%\n",
      "Epoch: 3 - model loss: 0.03088060103921291 | validation accuracy: 98.92%\n",
      "Epoch: 4 - model loss: 0.02391729802873084 | validation accuracy: 99.08%\n",
      "Epoch: 5 - model loss: 0.020492148707710902 | validation accuracy: 99.11%\n",
      "Epoch: 6 - model loss: 0.015896292428720867 | validation accuracy: 99.24%\n",
      "Epoch: 7 - model loss: 0.01322618734878627 | validation accuracy: 99.16%\n",
      "Epoch: 8 - model loss: 0.012308733568281594 | validation accuracy: 99.31%\n",
      "Epoch: 9 - model loss: 0.009958521443150336 | validation accuracy: 99.24%\n"
     ]
    }
   ],
   "source": [
    "# Train the model\n",
    "train(num_epochs=10, lr=0.0001)"
   ]
  },
  {
   "cell_type": "code",
   "execution_count": 12,
   "metadata": {
    "scrolled": false
   },
   "outputs": [
    {
     "data": {
      "image/png": "[encoded data removed]",
      "text/plain": [
       "<Figure size 432x288 with 1 Axes>"
      ]
     },
     "metadata": {
      "needs_background": "light"
     },
     "output_type": "display_data"
    },
    {
     "data": {
      "image/png": "[encoded data removed]",
      "text/plain": [
       "<Figure size 432x288 with 1 Axes>"
      ]
     },
     "metadata": {
      "needs_background": "light"
     },
     "output_type": "display_data"
    },
    {
     "data": {
      "image/png": "[encoded data removed]",
      "text/plain": [
       "<Figure size 432x288 with 1 Axes>"
      ]
     },
     "metadata": {
      "needs_background": "light"
     },
     "output_type": "display_data"
    },
    {
     "data": {
      "image/png": "[encoded data removed]",
      "text/plain": [
       "<Figure size 432x288 with 1 Axes>"
      ]
     },
     "metadata": {
      "needs_background": "light"
     },
     "output_type": "display_data"
    },
    {
     "data": {
      "image/png": "[encoded data removed]",
      "text/plain": [
       "<Figure size 432x288 with 1 Axes>"
      ]
     },
     "metadata": {
      "needs_background": "light"
     },
     "output_type": "display_data"
    },
    {
     "data": {
      "image/png": "[encoded data removed]",
      "text/plain": [
       "<Figure size 432x288 with 1 Axes>"
      ]
     },
     "metadata": {
      "needs_background": "light"
     },
     "output_type": "display_data"
    },
    {
     "data": {
      "image/png": "[encoded data removed]",
      "text/plain": [
       "<Figure size 432x288 with 1 Axes>"
      ]
     },
     "metadata": {
      "needs_background": "light"
     },
     "output_type": "display_data"
    },
    {
     "data": {
      "image/png": "[encoded data removed]",
      "text/plain": [
       "<Figure size 432x288 with 1 Axes>"
      ]
     },
     "metadata": {
      "needs_background": "light"
     },
     "output_type": "display_data"
    },
    {
     "data": {
      "image/png": "[encoded data removed]",
      "text/plain": [
       "<Figure size 432x288 with 1 Axes>"
      ]
     },
     "metadata": {
      "needs_background": "light"
     },
     "output_type": "display_data"
    },
    {
     "data": {
      "image/png": "[encoded data removed]",
      "text/plain": [
       "<Figure size 432x288 with 1 Axes>"
      ]
     },
     "metadata": {
      "needs_background": "light"
     },
     "output_type": "display_data"
    }
   ],
   "source": [
    "# Let's have a look at some outputs\n",
    "# Show some example images and whether or not the numbers they contain are odd or even\n",
    "\n",
    "def predict(image):\n",
    "    image = image.unsqueeze(0).to(device)\n",
    "    \n",
    "    pred = round(model(image).item())\n",
    "    \n",
    "    if pred == 0:\n",
    "        return f\"That's an even number! | Prediction: {round(model(image).item(), 3)}\"\n",
    "    else:\n",
    "        return f\"That's an odd number! | Prediction: {round(model(image).item(), 3)}\"\n",
    "\n",
    "        \n",
    "# Show 10 numbers and their predictions   \n",
    "dataiter = iter(valloader)\n",
    "for i in range(0, 10):\n",
    "    images, labels = dataiter.next()\n",
    "    result = predict(images[0])\n",
    "    plt.figure()\n",
    "    plt.imshow(images[0].numpy().squeeze(), cmap='gray_r')\n",
    "    plt.title(result)"
   ]
  }
 ],
 "metadata": {
  "kernelspec": {
   "display_name": "Python 3",
   "language": "python",
   "name": "python3"
  },
  "language_info": {
   "codemirror_mode": {
    "name": "ipython",
    "version": 3
   },
   "file_extension": ".py",
   "mimetype": "text/x-python",
   "name": "python",
   "nbconvert_exporter": "python",
   "pygments_lexer": "ipython3",
   "version": "3.7.6"
  }
 },
 "nbformat": 4,
 "nbformat_minor": 4
}
